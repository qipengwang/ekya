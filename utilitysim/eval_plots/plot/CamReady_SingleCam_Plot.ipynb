{
 "cells": [
  {
   "cell_type": "markdown",
   "metadata": {},
   "source": [
    "# Single Camera Paper Results Generation and Plotting"
   ]
  },
  {
   "cell_type": "code",
   "execution_count": 1,
   "metadata": {},
   "outputs": [],
   "source": [
    "import matplotlib.pyplot as plt\n",
    "%matplotlib notebook\n",
    "from collections import defaultdict\n",
    "import os\n",
    "import json\n",
    "import pandas as pd\n",
    "import numpy as np"
   ]
  },
  {
   "cell_type": "code",
   "execution_count": 2,
   "metadata": {},
   "outputs": [],
   "source": [
    "import sys\n",
    "sys.path.append(\"../..\") # Adds higher directory to python modules path.\n",
    "\n",
    "from utilitysimv4 import Camera, InferenceJob, TrainingJob, MultiPeriodSimulator, fair_naive_scheduler, fair_dumb_scheduler, fair_sco_scheduler, fair_random_scheduler, inference_only_scheduler, single_camera_naive, get_optimus_fn, thief_sco_scheduler, single_camera_optimizer, get_tanh_fn, get_linear_fn, get_infer_profile, get_tanh_fn, simulator, thief_scheduler, fair_scheduler"
   ]
  },
  {
   "cell_type": "code",
   "execution_count": 3,
   "metadata": {},
   "outputs": [],
   "source": [
    "aspect = 1.3\n",
    "height = 2.5\n",
    "# params = {'legend.fontsize': 'x-large',\n",
    "#           'figure.figsize': (15, 5),\n",
    "#          'axes.labelsize': 'x-large',\n",
    "#          'axes.titlesize':'x-large',\n",
    "#          'xtick.labelsize':'x-large',\n",
    "#          'ytick.labelsize':'x-large'}\n",
    "\n",
    "params = {'axes.labelsize': 'medium',\n",
    "         'xtick.labelsize':'medium',\n",
    "         'ytick.labelsize':'medium'}\n",
    "plt.rcParams.update(params)"
   ]
  },
  {
   "cell_type": "code",
   "execution_count": 27,
   "metadata": {},
   "outputs": [],
   "source": [
    "# !!!!!!! CONFIGURE THESE PARAMS !!!!!!!!\n",
    "dataset = 'waymo' #'cityscapes'\n",
    "pred_mode = 'datadist'# 'datadist'"
   ]
  },
  {
   "cell_type": "code",
   "execution_count": 28,
   "metadata": {},
   "outputs": [],
   "source": [
    "PROFILE_DIR = '/home/romilb/research/msr/results/profiling/new_profiling/{}/meta/profiles'.format(dataset)\n",
    "INFERENCE_PROFILE_PATH = '../real_inference_profiles.csv'\n",
    "INFERENCE_MAX_DEFAULT = 0.25\n",
    "PLOT_PATH = './camready_plots/'\n",
    "os.makedirs(PLOT_PATH, exist_ok=True)"
   ]
  },
  {
   "cell_type": "code",
   "execution_count": 29,
   "metadata": {},
   "outputs": [
    {
     "name": "stdout",
     "output_type": "stream",
     "text": [
      "[]\n"
     ]
    }
   ],
   "source": [
    "l=os.listdir(PROFILE_DIR)\n",
    "cities=[x.split('.')[0] for x in l]\n",
    "print(cities)"
   ]
  },
  {
   "cell_type": "code",
   "execution_count": 30,
   "metadata": {},
   "outputs": [],
   "source": [
    "all_data = pd.read_csv('data_eval_singlecam_{}_{}.csv'.format(dataset,pred_mode))"
   ]
  },
  {
   "cell_type": "markdown",
   "metadata": {},
   "source": [
    "# Cost vs accuracy - Single Cam"
   ]
  },
  {
   "cell_type": "code",
   "execution_count": 31,
   "metadata": {},
   "outputs": [],
   "source": [
    "PERIOD=200\n",
    "USE_ORACLE_INFO = True\n",
    "d = all_data\n",
    "d = d[d['use_oracle'] == USE_ORACLE_INFO]\n",
    "d = d[d['period'] == PERIOD]\n",
    "scheds = ['inference_only', 'fair_dumb','thief']"
   ]
  },
  {
   "cell_type": "code",
   "execution_count": 32,
   "metadata": {},
   "outputs": [
    {
     "data": {
      "text/plain": [
       "[]"
      ]
     },
     "execution_count": 32,
     "metadata": {},
     "output_type": "execute_result"
    }
   ],
   "source": [
    "cities"
   ]
  },
  {
   "cell_type": "code",
   "execution_count": 34,
   "metadata": {
    "scrolled": false
   },
   "outputs": [
    {
     "data": {
      "image/png": "[encoded data removed]",
      "text/plain": [
       "<Figure size 504x144 with 3 Axes>"
      ]
     },
     "metadata": {
      "needs_background": "light"
     },
     "output_type": "display_data"
    }
   ],
   "source": [
    "# Cost vs Resource\n",
    "nrow = 1; ncol = 3;\n",
    "fig, axs = plt.subplots(figsize=[7,2], nrows=nrow, ncols=ncol)\n",
    "\n",
    "axs = axs.reshape(-1)\n",
    "cities = d.city.unique()\n",
    "#cities = ['zurich'] if dataset == 'cityscapes' else ['phx-41-60_1']\n",
    "cities_to_plot = [cities[2], cities[4], cities[9]] if dataset == 'cityscapes' else [cities[0], cities[1], cities[2]]\n",
    "city_ids= [2,4,9] if dataset == 'cityscapes' else [0,1,2]\n",
    "for i,city in enumerate(cities_to_plot):\n",
    "    ax = axs[i]\n",
    "    temp_df = d[d['city']==city]\n",
    "    temp_df.plot(x='resources', y=scheds, kind='line', ax=ax,\n",
    "                        title=\"V{}\".format(city_ids[i]),\n",
    "                        legend=False, style=['v-', '^-', 'o-'],markevery=3,\n",
    "                     label = [\"No-retrain\", \"Fair Scheduler\", \"Ekya\"])\n",
    "    ax.set_ylim([0,0.95])\n",
    "    ax.set_ylabel('Inference Accuracy')\n",
    "    ax.set_xlabel('Resource Cost (GPUs)')\n",
    "\n",
    "    x_tick_range = np.arange(0,1,0.2)\n",
    "    ax.set_xticks(x_tick_range)\n",
    "    ax.set_xticklabels([\"{:.1f}\".format(x) for x in x_tick_range])\n",
    "    #ax.set_xlim([0.8, 8.2])\n",
    "\n",
    "    y_tick_range = np.arange(0,1.1,0.2)\n",
    "    ax.set_yticks(y_tick_range)\n",
    "    ax.set_yticklabels([\"{:.1f}\".format(x) for x in y_tick_range])\n",
    "    plt.tight_layout()\n",
    "    ax.yaxis.grid(True)\n",
    "    handles, labels = ax.get_legend_handles_labels()\n",
    "#fig.legend(handles, labels, loc='upper center', bbox_to_anchor=(0.5,1.12), ncol=3)\n",
    "\n",
    "#lgd = plt.legend(loc=\"lower center\", bbox_to_anchor=(0,1.02,1,0.2), ncol=2, prop={'size': 'small'})\n",
    "plt.tight_layout()\n",
    "plt.savefig(os.path.join(PLOT_PATH, \"singlecam_acc_vs_cost_{}.pdf\".format(dataset)), bbox_inches='tight')"
   ]
  },
  {
   "cell_type": "code",
   "execution_count": null,
   "metadata": {},
   "outputs": [],
   "source": []
  },
  {
   "cell_type": "code",
   "execution_count": null,
   "metadata": {},
   "outputs": [],
   "source": []
  },
  {
   "cell_type": "code",
   "execution_count": null,
   "metadata": {},
   "outputs": [],
   "source": []
  }
 ],
 "metadata": {
  "kernelspec": {
   "display_name": "Python 3",
   "language": "python",
   "name": "python3"
  },
  "language_info": {
   "codemirror_mode": {
    "name": "ipython",
    "version": 3
   },
   "file_extension": ".py",
   "mimetype": "text/x-python",
   "name": "python",
   "nbconvert_exporter": "python",
   "pygments_lexer": "ipython3",
   "version": "3.7.3"
  }
 },
 "nbformat": 4,
 "nbformat_minor": 2
}
