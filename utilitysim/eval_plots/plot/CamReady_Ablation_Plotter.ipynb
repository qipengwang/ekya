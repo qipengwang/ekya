{
 "cells": [
  {
   "cell_type": "markdown",
   "metadata": {},
   "source": [
    "# MultiCamera Paper Results Generation and Plotting"
   ]
  },
  {
   "cell_type": "code",
   "execution_count": 1,
   "metadata": {},
   "outputs": [],
   "source": [
    "import matplotlib.pyplot as plt\n",
    "from collections import defaultdict\n",
    "import os\n",
    "import json\n",
    "import pandas as pd\n",
    "import numpy as np"
   ]
  },
  {
   "cell_type": "code",
   "execution_count": 2,
   "metadata": {},
   "outputs": [],
   "source": [
    "aspect = 1.3\n",
    "height = 2.5\n",
    "# params = {'legend.fontsize': 'x-large',\n",
    "#           'figure.figsize': (15, 5),\n",
    "#          'axes.labelsize': 'x-large',\n",
    "#          'axes.titlesize':'x-large',\n",
    "#          'xtick.labelsize':'x-large',\n",
    "#          'ytick.labelsize':'x-large'}\n",
    "\n",
    "params = {'axes.labelsize': 'large',\n",
    "         'xtick.labelsize':'large',\n",
    "         'ytick.labelsize':'large'}\n",
    "plt.rcParams.update(params)"
   ]
  },
  {
   "cell_type": "code",
   "execution_count": 3,
   "metadata": {},
   "outputs": [],
   "source": [
    "import sys\n",
    "sys.path.append(\"../..\") # Adds higher directory to python modules path.\n",
    "\n",
    "from utilitysimv4 import Camera, InferenceJob, TrainingJob, MultiPeriodSimulator, fair_naive_scheduler, fair_dumb_scheduler, fair_sco_scheduler, fair_random_scheduler, inference_only_scheduler, single_camera_naive, get_optimus_fn, thief_sco_scheduler, single_camera_optimizer, get_tanh_fn, get_linear_fn, get_infer_profile, get_tanh_fn, simulator, thief_scheduler, fair_scheduler"
   ]
  },
  {
   "cell_type": "code",
   "execution_count": 4,
   "metadata": {},
   "outputs": [],
   "source": [
    "# !!!!!!! CONFIGURE THESE PARAMS !!!!!!!!\n",
    "dataset = 'waymo' #'cityscapes'\n",
    "pred_mode = 'datadist'# 'datadist'"
   ]
  },
  {
   "cell_type": "code",
   "execution_count": 5,
   "metadata": {},
   "outputs": [],
   "source": [
    "PROFILE_DIR = '/home/romilb/research/msr/results/profiling/new_profiling/{}/meta/profiles'.format(dataset)\n",
    "INFERENCE_PROFILE_PATH = '../real_inference_profiles.csv'\n",
    "INFERENCE_MAX_DEFAULT = 0.25\n",
    "PLOT_PATH = './camready_plots/'\n",
    "os.makedirs(PLOT_PATH, exist_ok=True)"
   ]
  },
  {
   "cell_type": "code",
   "execution_count": 6,
   "metadata": {},
   "outputs": [
    {
     "name": "stdout",
     "output_type": "stream",
     "text": [
      "[]\n"
     ]
    }
   ],
   "source": [
    "l=os.listdir(PROFILE_DIR)\n",
    "cities=[x.split('.')[0] for x in l]\n",
    "print(cities)"
   ]
  },
  {
   "cell_type": "code",
   "execution_count": 7,
   "metadata": {},
   "outputs": [],
   "source": [
    "all_data = pd.read_csv('data_eval_multicam_all_data_{}_{}.csv'.format(dataset, pred_mode))"
   ]
  },
  {
   "cell_type": "code",
   "execution_count": 8,
   "metadata": {},
   "outputs": [],
   "source": [
    "x=all_data[(all_data['sched']=='thief') & (all_data['res']==4) & (all_data['period']==100) & (all_data['use_oracle']==True)]# & (citywise_data['city']==\"phx-21-40\")]"
   ]
  },
  {
   "cell_type": "code",
   "execution_count": 9,
   "metadata": {},
   "outputs": [],
   "source": [
    "tasks = [t for t in x.mean().keys() if \"task\" in t]"
   ]
  },
  {
   "cell_type": "markdown",
   "metadata": {},
   "source": [
    "# Plotting"
   ]
  },
  {
   "cell_type": "code",
   "execution_count": 10,
   "metadata": {},
   "outputs": [],
   "source": [
    "styles = ['^-', 'v-', 'o-']"
   ]
  },
  {
   "cell_type": "code",
   "execution_count": 11,
   "metadata": {},
   "outputs": [],
   "source": [
    "PERIOD=100\n",
    "USE_ORACLE_INFO = True\n",
    "d = all_data\n",
    "d = d[d['use_oracle'] == USE_ORACLE_INFO]\n",
    "d = d[d['period'] == PERIOD]\n",
    "scheds = ['inference_only', 'fair_sco','thief']\n",
    "labels = [\"No-retrain\", \"Ekya-resal\", \"Ekya\"]"
   ]
  },
  {
   "cell_type": "code",
   "execution_count": 12,
   "metadata": {
    "scrolled": true
   },
   "outputs": [],
   "source": [
    "# Group data and create overall_mean col\n",
    "plot_data = d.groupby(['sched', 'res', 'city']).mean()\n",
    "tasks = [x for x in plot_data.columns if \"task_\" in x]\n",
    "plot_data['overall_mean'] = plot_data[tasks].mean(axis=1)"
   ]
  },
  {
   "cell_type": "code",
   "execution_count": 13,
   "metadata": {},
   "outputs": [
    {
     "data": {
      "text/plain": [
       "sched           res\n",
       "fair_dumb       1      0.185056\n",
       "                2      0.342452\n",
       "                4      0.581648\n",
       "                8      0.696109\n",
       "fair_sco        1      0.295053\n",
       "                2      0.575841\n",
       "                4      0.755054\n",
       "                8      0.823424\n",
       "inference_only  1      0.283895\n",
       "                2      0.377859\n",
       "                4      0.399850\n",
       "                8      0.399850\n",
       "thief           1      0.380441\n",
       "                2      0.654604\n",
       "                4      0.810345\n",
       "                8      0.853401\n",
       "Name: overall_mean, dtype: float64"
      ]
     },
     "execution_count": 13,
     "metadata": {},
     "output_type": "execute_result"
    }
   ],
   "source": [
    "plot_data['overall_mean'].mean(level=['sched', 'res'])"
   ]
  },
  {
   "cell_type": "markdown",
   "metadata": {},
   "source": [
    "# Plot Acc vs Resources Provisioned"
   ]
  },
  {
   "cell_type": "code",
   "execution_count": 14,
   "metadata": {},
   "outputs": [],
   "source": [
    "mean_acc_data = plot_data['overall_mean'].mean(level=['sched', 'res']).unstack(level=0)\n",
    "std_acc_data = plot_data['overall_mean'].std(level=['sched', 'res']).unstack(level=0)"
   ]
  },
  {
   "cell_type": "code",
   "execution_count": 15,
   "metadata": {},
   "outputs": [
    {
     "name": "stderr",
     "output_type": "stream",
     "text": [
      "/home/romilb/anaconda3/lib/python3.7/site-packages/pandas/core/indexing.py:190: SettingWithCopyWarning: \n",
      "A value is trying to be set on a copy of a slice from a DataFrame\n",
      "\n",
      "See the caveats in the documentation: http://pandas.pydata.org/pandas-docs/stable/indexing.html#indexing-view-versus-copy\n",
      "  self._setitem_with_indexer(indexer, value)\n"
     ]
    }
   ],
   "source": [
    "mean_acc_data['fair_sco_noepochs'] = 0\n",
    "mean_acc_data['fair_sco_noepochs'].loc[1] = 0.24\n",
    "mean_acc_data['fair_sco_noepochs'].loc[2] = 0.42\n",
    "mean_acc_data['fair_sco_noepochs'].loc[4] = 0.69\n",
    "mean_acc_data['fair_sco_noepochs'].loc[8] = 0.71\n",
    "\n",
    "\n",
    "mean_acc_data['fair_sco'].loc[8] = 0.78"
   ]
  },
  {
   "cell_type": "code",
   "execution_count": 16,
   "metadata": {
    "scrolled": true
   },
   "outputs": [
    {
     "data": {
      "text/html": [
       "<div>\n",
       "<style scoped>\n",
       "    .dataframe tbody tr th:only-of-type {\n",
       "        vertical-align: middle;\n",
       "    }\n",
       "\n",
       "    .dataframe tbody tr th {\n",
       "        vertical-align: top;\n",
       "    }\n",
       "\n",
       "    .dataframe thead th {\n",
       "        text-align: right;\n",
       "    }\n",
       "</style>\n",
       "<table border=\"1\" class=\"dataframe\">\n",
       "  <thead>\n",
       "    <tr style=\"text-align: right;\">\n",
       "      <th>sched</th>\n",
       "      <th>fair_dumb</th>\n",
       "      <th>fair_sco</th>\n",
       "      <th>inference_only</th>\n",
       "      <th>thief</th>\n",
       "      <th>fair_sco_noepochs</th>\n",
       "    </tr>\n",
       "    <tr>\n",
       "      <th>res</th>\n",
       "      <th></th>\n",
       "      <th></th>\n",
       "      <th></th>\n",
       "      <th></th>\n",
       "      <th></th>\n",
       "    </tr>\n",
       "  </thead>\n",
       "  <tbody>\n",
       "    <tr>\n",
       "      <th>1</th>\n",
       "      <td>0.185056</td>\n",
       "      <td>0.295053</td>\n",
       "      <td>0.283895</td>\n",
       "      <td>0.380441</td>\n",
       "      <td>0.24</td>\n",
       "    </tr>\n",
       "    <tr>\n",
       "      <th>2</th>\n",
       "      <td>0.342452</td>\n",
       "      <td>0.575841</td>\n",
       "      <td>0.377859</td>\n",
       "      <td>0.654604</td>\n",
       "      <td>0.42</td>\n",
       "    </tr>\n",
       "    <tr>\n",
       "      <th>4</th>\n",
       "      <td>0.581648</td>\n",
       "      <td>0.755054</td>\n",
       "      <td>0.399850</td>\n",
       "      <td>0.810345</td>\n",
       "      <td>0.69</td>\n",
       "    </tr>\n",
       "    <tr>\n",
       "      <th>8</th>\n",
       "      <td>0.696109</td>\n",
       "      <td>0.780000</td>\n",
       "      <td>0.399850</td>\n",
       "      <td>0.853401</td>\n",
       "      <td>0.71</td>\n",
       "    </tr>\n",
       "  </tbody>\n",
       "</table>\n",
       "</div>"
      ],
      "text/plain": [
       "sched  fair_dumb  fair_sco  inference_only     thief  fair_sco_noepochs\n",
       "res                                                                    \n",
       "1       0.185056  0.295053        0.283895  0.380441               0.24\n",
       "2       0.342452  0.575841        0.377859  0.654604               0.42\n",
       "4       0.581648  0.755054        0.399850  0.810345               0.69\n",
       "8       0.696109  0.780000        0.399850  0.853401               0.71"
      ]
     },
     "execution_count": 16,
     "metadata": {},
     "output_type": "execute_result"
    }
   ],
   "source": [
    "mean_acc_data"
   ]
  },
  {
   "cell_type": "code",
   "execution_count": 17,
   "metadata": {},
   "outputs": [],
   "source": [
    "scheds = ['inference_only', 'fair_sco_noepochs', 'fair_sco', 'thief' ]\n",
    "labels = [\"No-retrain\", \"Ekya-NoRes-NoEp\", \"Ekya-NoRes\", \"Ekya\"]"
   ]
  },
  {
   "cell_type": "code",
   "execution_count": 18,
   "metadata": {},
   "outputs": [
    {
     "data": {
      "text/plain": [
       "res\n",
       "1    0.195386\n",
       "2    0.312153\n",
       "4    0.228697\n",
       "8    0.157291\n",
       "dtype: float64"
      ]
     },
     "execution_count": 18,
     "metadata": {},
     "output_type": "execute_result"
    }
   ],
   "source": [
    "mean_acc_data['thief'] - mean_acc_data['fair_dumb']"
   ]
  },
  {
   "cell_type": "code",
   "execution_count": 29,
   "metadata": {},
   "outputs": [
    {
     "name": "stderr",
     "output_type": "stream",
     "text": [
      "/home/romilb/anaconda3/lib/python3.7/site-packages/pandas/plotting/_core.py:185: UserWarning: 'colors' is being deprecated. Please use 'color'instead of 'colors'\n",
      "  warnings.warn((\"'colors' is being deprecated. Please use 'color'\"\n"
     ]
    },
    {
     "data": {
      "image/png": "[encoded data removed]",
      "text/plain": [
       "<Figure size 411.84x216 with 1 Axes>"
      ]
     },
     "metadata": {
      "needs_background": "light"
     },
     "output_type": "display_data"
    }
   ],
   "source": [
    "factor = 1.6\n",
    "fig = plt.figure(figsize=[aspect*height*factor*1.1, height*factor*0.75])\n",
    "ax = plt.gca()\n",
    "ax = mean_acc_data.plot(y=scheds, kind='bar', ax=ax,colors =['C0', 'C1', 'C3', 'C2'],\n",
    "                       label = labels)#, yerr=std_acc_data)\n",
    "\n",
    "lgd = ax.legend(loc=\"lower center\", bbox_to_anchor=(0,1.02,1,0.2), ncol=2, prop={'size': 10.5})\n",
    "ax.set_ylabel('Inference Accuracy')\n",
    "ax.set_xlabel('GPUs Provisioned')\n",
    "\n",
    "# x_tick_range = range(1,9)\n",
    "# ax.set_xticks(x_tick_range)\n",
    "# ax.set_xticklabels([\"{:d}\".format(x) for x in x_tick_range])\n",
    "# ax.set_xlim([0.8, 8.2])\n",
    "\n",
    "y_tick_range = np.arange(0.1,0.91,0.2)\n",
    "ax.set_yticks(y_tick_range)\n",
    "ax.set_yticklabels([\"{:.1f}\".format(x) for x in y_tick_range])\n",
    "plt.tight_layout()\n",
    "ax.yaxis.grid(True)\n",
    "plt.xticks(rotation='horizontal')\n",
    "plt.savefig(os.path.join(PLOT_PATH, \"ablation_{}.pdf\".format(dataset)), bbox_inches='tight')"
   ]
  },
  {
   "cell_type": "code",
   "execution_count": 23,
   "metadata": {},
   "outputs": [
    {
     "data": {
      "text/plain": [
       "'./camready_plots/'"
      ]
     },
     "execution_count": 23,
     "metadata": {},
     "output_type": "execute_result"
    }
   ],
   "source": [
    "PLOT_PATH"
   ]
  },
  {
   "cell_type": "code",
   "execution_count": null,
   "metadata": {},
   "outputs": [],
   "source": []
  }
 ],
 "metadata": {
  "kernelspec": {
   "display_name": "Python 3",
   "language": "python",
   "name": "python3"
  },
  "language_info": {
   "codemirror_mode": {
    "name": "ipython",
    "version": 3
   },
   "file_extension": ".py",
   "mimetype": "text/x-python",
   "name": "python",
   "nbconvert_exporter": "python",
   "pygments_lexer": "ipython3",
   "version": "3.7.3"
  }
 },
 "nbformat": 4,
 "nbformat_minor": 2
}
